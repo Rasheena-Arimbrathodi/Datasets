{
  "cells": [
    {
      "cell_type": "markdown",
      "metadata": {
        "id": "view-in-github",
        "colab_type": "text"
      },
      "source": [
        "<a href=\"https://colab.research.google.com/github/Rasheena-Arimbrathodi/Datasets/blob/Rasheena-Arimbrathodi-patch-1/mnist.ipynb\" target=\"_parent\"><img src=\"https://colab.research.google.com/assets/colab-badge.svg\" alt=\"Open In Colab\"/></a>"
      ]
    },
    {
      "cell_type": "code",
      "execution_count": null,
      "metadata": {
        "id": "XUZXgmbxp0fM"
      },
      "outputs": [],
      "source": [
        "import numpy as np\n",
        "import pandas as pd\n",
        "from sklearn.model_selection import train_test_split\n",
        "import matplotlib.pyplot as plt"
      ]
    },
    {
      "cell_type": "code",
      "execution_count": null,
      "metadata": {
        "id": "AGwdHYXaqE-8"
      },
      "outputs": [],
      "source": [
        "df=pd.read_csv(\"noisy_mnist.csv\",header=None)"
      ]
    },
    {
      "cell_type": "code",
      "execution_count": null,
      "metadata": {
        "colab": {
          "base_uri": "https://localhost:8080/",
          "height": 255
        },
        "id": "CXys8xKLos4n",
        "outputId": "c8ba6e26-010a-4e37-8419-d53071ec19a6"
      },
      "outputs": [
        {
          "data": {
            "text/html": [
              "\n",
              "  <div id=\"df-8bfca953-3b69-4701-9b00-617732dd8378\" class=\"colab-df-container\">\n",
              "    <div>\n",
              "<style scoped>\n",
              "    .dataframe tbody tr th:only-of-type {\n",
              "        vertical-align: middle;\n",
              "    }\n",
              "\n",
              "    .dataframe tbody tr th {\n",
              "        vertical-align: top;\n",
              "    }\n",
              "\n",
              "    .dataframe thead th {\n",
              "        text-align: right;\n",
              "    }\n",
              "</style>\n",
              "<table border=\"1\" class=\"dataframe\">\n",
              "  <thead>\n",
              "    <tr style=\"text-align: right;\">\n",
              "      <th></th>\n",
              "      <th>0</th>\n",
              "      <th>1</th>\n",
              "      <th>2</th>\n",
              "      <th>3</th>\n",
              "      <th>4</th>\n",
              "      <th>5</th>\n",
              "      <th>6</th>\n",
              "      <th>7</th>\n",
              "      <th>8</th>\n",
              "      <th>9</th>\n",
              "      <th>...</th>\n",
              "      <th>246</th>\n",
              "      <th>247</th>\n",
              "      <th>248</th>\n",
              "      <th>249</th>\n",
              "      <th>250</th>\n",
              "      <th>251</th>\n",
              "      <th>252</th>\n",
              "      <th>253</th>\n",
              "      <th>254</th>\n",
              "      <th>255</th>\n",
              "    </tr>\n",
              "  </thead>\n",
              "  <tbody>\n",
              "    <tr>\n",
              "      <th>0</th>\n",
              "      <td>0.264608</td>\n",
              "      <td>0.060024</td>\n",
              "      <td>0.146811</td>\n",
              "      <td>0.336136</td>\n",
              "      <td>0.280311</td>\n",
              "      <td>-0.139760</td>\n",
              "      <td>0.233830</td>\n",
              "      <td>0.371765</td>\n",
              "      <td>0.669086</td>\n",
              "      <td>0.530387</td>\n",
              "      <td>...</td>\n",
              "      <td>0.911594</td>\n",
              "      <td>1.065910</td>\n",
              "      <td>0.813509</td>\n",
              "      <td>0.559103</td>\n",
              "      <td>0.576087</td>\n",
              "      <td>0.143439</td>\n",
              "      <td>0.082710</td>\n",
              "      <td>-0.040196</td>\n",
              "      <td>0.104130</td>\n",
              "      <td>0.104220</td>\n",
              "    </tr>\n",
              "    <tr>\n",
              "      <th>1</th>\n",
              "      <td>-0.108767</td>\n",
              "      <td>-0.202736</td>\n",
              "      <td>-0.170056</td>\n",
              "      <td>0.332693</td>\n",
              "      <td>0.186255</td>\n",
              "      <td>0.280204</td>\n",
              "      <td>0.253478</td>\n",
              "      <td>0.363563</td>\n",
              "      <td>0.039638</td>\n",
              "      <td>0.300219</td>\n",
              "      <td>...</td>\n",
              "      <td>0.564037</td>\n",
              "      <td>0.439045</td>\n",
              "      <td>0.601399</td>\n",
              "      <td>0.758090</td>\n",
              "      <td>0.615006</td>\n",
              "      <td>0.495628</td>\n",
              "      <td>0.418448</td>\n",
              "      <td>0.651263</td>\n",
              "      <td>0.450334</td>\n",
              "      <td>0.362928</td>\n",
              "    </tr>\n",
              "    <tr>\n",
              "      <th>2</th>\n",
              "      <td>-0.199832</td>\n",
              "      <td>-0.295294</td>\n",
              "      <td>-0.099008</td>\n",
              "      <td>0.026376</td>\n",
              "      <td>0.074813</td>\n",
              "      <td>0.157204</td>\n",
              "      <td>0.042648</td>\n",
              "      <td>0.261847</td>\n",
              "      <td>-0.017913</td>\n",
              "      <td>0.042030</td>\n",
              "      <td>...</td>\n",
              "      <td>0.006110</td>\n",
              "      <td>-0.227748</td>\n",
              "      <td>0.048597</td>\n",
              "      <td>0.511590</td>\n",
              "      <td>0.850562</td>\n",
              "      <td>0.497355</td>\n",
              "      <td>0.232944</td>\n",
              "      <td>-0.157354</td>\n",
              "      <td>-0.015151</td>\n",
              "      <td>0.002892</td>\n",
              "    </tr>\n",
              "    <tr>\n",
              "      <th>3</th>\n",
              "      <td>0.277441</td>\n",
              "      <td>-0.031975</td>\n",
              "      <td>-0.070889</td>\n",
              "      <td>0.047647</td>\n",
              "      <td>0.075778</td>\n",
              "      <td>0.556461</td>\n",
              "      <td>0.741170</td>\n",
              "      <td>0.604523</td>\n",
              "      <td>0.770517</td>\n",
              "      <td>0.562931</td>\n",
              "      <td>...</td>\n",
              "      <td>0.290294</td>\n",
              "      <td>0.645014</td>\n",
              "      <td>0.688283</td>\n",
              "      <td>-0.053283</td>\n",
              "      <td>0.047673</td>\n",
              "      <td>0.014939</td>\n",
              "      <td>0.152352</td>\n",
              "      <td>0.105156</td>\n",
              "      <td>-0.062622</td>\n",
              "      <td>-0.164624</td>\n",
              "    </tr>\n",
              "    <tr>\n",
              "      <th>4</th>\n",
              "      <td>0.256846</td>\n",
              "      <td>-0.118795</td>\n",
              "      <td>-0.155106</td>\n",
              "      <td>-0.134832</td>\n",
              "      <td>0.297439</td>\n",
              "      <td>0.241704</td>\n",
              "      <td>0.469472</td>\n",
              "      <td>0.815539</td>\n",
              "      <td>0.763322</td>\n",
              "      <td>0.545774</td>\n",
              "      <td>...</td>\n",
              "      <td>0.475727</td>\n",
              "      <td>1.085077</td>\n",
              "      <td>1.194813</td>\n",
              "      <td>0.838231</td>\n",
              "      <td>0.959414</td>\n",
              "      <td>0.852181</td>\n",
              "      <td>0.439244</td>\n",
              "      <td>0.093923</td>\n",
              "      <td>-0.093429</td>\n",
              "      <td>0.102673</td>\n",
              "    </tr>\n",
              "  </tbody>\n",
              "</table>\n",
              "<p>5 rows × 256 columns</p>\n",
              "</div>\n",
              "    <div class=\"colab-df-buttons\">\n",
              "\n",
              "  <div class=\"colab-df-container\">\n",
              "    <button class=\"colab-df-convert\" onclick=\"convertToInteractive('df-8bfca953-3b69-4701-9b00-617732dd8378')\"\n",
              "            title=\"Convert this dataframe to an interactive table.\"\n",
              "            style=\"display:none;\">\n",
              "\n",
              "  <svg xmlns=\"http://www.w3.org/2000/svg\" height=\"24px\" viewBox=\"0 -960 960 960\">\n",
              "    <path d=\"M120-120v-720h720v720H120Zm60-500h600v-160H180v160Zm220 220h160v-160H400v160Zm0 220h160v-160H400v160ZM180-400h160v-160H180v160Zm440 0h160v-160H620v160ZM180-180h160v-160H180v160Zm440 0h160v-160H620v160Z\"/>\n",
              "  </svg>\n",
              "    </button>\n",
              "\n",
              "  <style>\n",
              "    .colab-df-container {\n",
              "      display:flex;\n",
              "      gap: 12px;\n",
              "    }\n",
              "\n",
              "    .colab-df-convert {\n",
              "      background-color: #E8F0FE;\n",
              "      border: none;\n",
              "      border-radius: 50%;\n",
              "      cursor: pointer;\n",
              "      display: none;\n",
              "      fill: #1967D2;\n",
              "      height: 32px;\n",
              "      padding: 0 0 0 0;\n",
              "      width: 32px;\n",
              "    }\n",
              "\n",
              "    .colab-df-convert:hover {\n",
              "      background-color: #E2EBFA;\n",
              "      box-shadow: 0px 1px 2px rgba(60, 64, 67, 0.3), 0px 1px 3px 1px rgba(60, 64, 67, 0.15);\n",
              "      fill: #174EA6;\n",
              "    }\n",
              "\n",
              "    .colab-df-buttons div {\n",
              "      margin-bottom: 4px;\n",
              "    }\n",
              "\n",
              "    [theme=dark] .colab-df-convert {\n",
              "      background-color: #3B4455;\n",
              "      fill: #D2E3FC;\n",
              "    }\n",
              "\n",
              "    [theme=dark] .colab-df-convert:hover {\n",
              "      background-color: #434B5C;\n",
              "      box-shadow: 0px 1px 3px 1px rgba(0, 0, 0, 0.15);\n",
              "      filter: drop-shadow(0px 1px 2px rgba(0, 0, 0, 0.3));\n",
              "      fill: #FFFFFF;\n",
              "    }\n",
              "  </style>\n",
              "\n",
              "    <script>\n",
              "      const buttonEl =\n",
              "        document.querySelector('#df-8bfca953-3b69-4701-9b00-617732dd8378 button.colab-df-convert');\n",
              "      buttonEl.style.display =\n",
              "        google.colab.kernel.accessAllowed ? 'block' : 'none';\n",
              "\n",
              "      async function convertToInteractive(key) {\n",
              "        const element = document.querySelector('#df-8bfca953-3b69-4701-9b00-617732dd8378');\n",
              "        const dataTable =\n",
              "          await google.colab.kernel.invokeFunction('convertToInteractive',\n",
              "                                                    [key], {});\n",
              "        if (!dataTable) return;\n",
              "\n",
              "        const docLinkHtml = 'Like what you see? Visit the ' +\n",
              "          '<a target=\"_blank\" href=https://colab.research.google.com/notebooks/data_table.ipynb>data table notebook</a>'\n",
              "          + ' to learn more about interactive tables.';\n",
              "        element.innerHTML = '';\n",
              "        dataTable['output_type'] = 'display_data';\n",
              "        await google.colab.output.renderOutput(dataTable, element);\n",
              "        const docLink = document.createElement('div');\n",
              "        docLink.innerHTML = docLinkHtml;\n",
              "        element.appendChild(docLink);\n",
              "      }\n",
              "    </script>\n",
              "  </div>\n",
              "\n",
              "\n",
              "<div id=\"df-72623b01-52e4-4b6b-88e4-a5641fb78f24\">\n",
              "  <button class=\"colab-df-quickchart\" onclick=\"quickchart('df-72623b01-52e4-4b6b-88e4-a5641fb78f24')\"\n",
              "            title=\"Suggest charts.\"\n",
              "            style=\"display:none;\">\n",
              "\n",
              "<svg xmlns=\"http://www.w3.org/2000/svg\" height=\"24px\"viewBox=\"0 0 24 24\"\n",
              "     width=\"24px\">\n",
              "    <g>\n",
              "        <path d=\"M19 3H5c-1.1 0-2 .9-2 2v14c0 1.1.9 2 2 2h14c1.1 0 2-.9 2-2V5c0-1.1-.9-2-2-2zM9 17H7v-7h2v7zm4 0h-2V7h2v10zm4 0h-2v-4h2v4z\"/>\n",
              "    </g>\n",
              "</svg>\n",
              "  </button>\n",
              "\n",
              "<style>\n",
              "  .colab-df-quickchart {\n",
              "      --bg-color: #E8F0FE;\n",
              "      --fill-color: #1967D2;\n",
              "      --hover-bg-color: #E2EBFA;\n",
              "      --hover-fill-color: #174EA6;\n",
              "      --disabled-fill-color: #AAA;\n",
              "      --disabled-bg-color: #DDD;\n",
              "  }\n",
              "\n",
              "  [theme=dark] .colab-df-quickchart {\n",
              "      --bg-color: #3B4455;\n",
              "      --fill-color: #D2E3FC;\n",
              "      --hover-bg-color: #434B5C;\n",
              "      --hover-fill-color: #FFFFFF;\n",
              "      --disabled-bg-color: #3B4455;\n",
              "      --disabled-fill-color: #666;\n",
              "  }\n",
              "\n",
              "  .colab-df-quickchart {\n",
              "    background-color: var(--bg-color);\n",
              "    border: none;\n",
              "    border-radius: 50%;\n",
              "    cursor: pointer;\n",
              "    display: none;\n",
              "    fill: var(--fill-color);\n",
              "    height: 32px;\n",
              "    padding: 0;\n",
              "    width: 32px;\n",
              "  }\n",
              "\n",
              "  .colab-df-quickchart:hover {\n",
              "    background-color: var(--hover-bg-color);\n",
              "    box-shadow: 0 1px 2px rgba(60, 64, 67, 0.3), 0 1px 3px 1px rgba(60, 64, 67, 0.15);\n",
              "    fill: var(--button-hover-fill-color);\n",
              "  }\n",
              "\n",
              "  .colab-df-quickchart-complete:disabled,\n",
              "  .colab-df-quickchart-complete:disabled:hover {\n",
              "    background-color: var(--disabled-bg-color);\n",
              "    fill: var(--disabled-fill-color);\n",
              "    box-shadow: none;\n",
              "  }\n",
              "\n",
              "  .colab-df-spinner {\n",
              "    border: 2px solid var(--fill-color);\n",
              "    border-color: transparent;\n",
              "    border-bottom-color: var(--fill-color);\n",
              "    animation:\n",
              "      spin 1s steps(1) infinite;\n",
              "  }\n",
              "\n",
              "  @keyframes spin {\n",
              "    0% {\n",
              "      border-color: transparent;\n",
              "      border-bottom-color: var(--fill-color);\n",
              "      border-left-color: var(--fill-color);\n",
              "    }\n",
              "    20% {\n",
              "      border-color: transparent;\n",
              "      border-left-color: var(--fill-color);\n",
              "      border-top-color: var(--fill-color);\n",
              "    }\n",
              "    30% {\n",
              "      border-color: transparent;\n",
              "      border-left-color: var(--fill-color);\n",
              "      border-top-color: var(--fill-color);\n",
              "      border-right-color: var(--fill-color);\n",
              "    }\n",
              "    40% {\n",
              "      border-color: transparent;\n",
              "      border-right-color: var(--fill-color);\n",
              "      border-top-color: var(--fill-color);\n",
              "    }\n",
              "    60% {\n",
              "      border-color: transparent;\n",
              "      border-right-color: var(--fill-color);\n",
              "    }\n",
              "    80% {\n",
              "      border-color: transparent;\n",
              "      border-right-color: var(--fill-color);\n",
              "      border-bottom-color: var(--fill-color);\n",
              "    }\n",
              "    90% {\n",
              "      border-color: transparent;\n",
              "      border-bottom-color: var(--fill-color);\n",
              "    }\n",
              "  }\n",
              "</style>\n",
              "\n",
              "  <script>\n",
              "    async function quickchart(key) {\n",
              "      const quickchartButtonEl =\n",
              "        document.querySelector('#' + key + ' button');\n",
              "      quickchartButtonEl.disabled = true;  // To prevent multiple clicks.\n",
              "      quickchartButtonEl.classList.add('colab-df-spinner');\n",
              "      try {\n",
              "        const charts = await google.colab.kernel.invokeFunction(\n",
              "            'suggestCharts', [key], {});\n",
              "      } catch (error) {\n",
              "        console.error('Error during call to suggestCharts:', error);\n",
              "      }\n",
              "      quickchartButtonEl.classList.remove('colab-df-spinner');\n",
              "      quickchartButtonEl.classList.add('colab-df-quickchart-complete');\n",
              "    }\n",
              "    (() => {\n",
              "      let quickchartButtonEl =\n",
              "        document.querySelector('#df-72623b01-52e4-4b6b-88e4-a5641fb78f24 button');\n",
              "      quickchartButtonEl.style.display =\n",
              "        google.colab.kernel.accessAllowed ? 'block' : 'none';\n",
              "    })();\n",
              "  </script>\n",
              "</div>\n",
              "    </div>\n",
              "  </div>\n"
            ],
            "text/plain": [
              "        0         1         2         3         4         5         6    \\\n",
              "0  0.264608  0.060024  0.146811  0.336136  0.280311 -0.139760  0.233830   \n",
              "1 -0.108767 -0.202736 -0.170056  0.332693  0.186255  0.280204  0.253478   \n",
              "2 -0.199832 -0.295294 -0.099008  0.026376  0.074813  0.157204  0.042648   \n",
              "3  0.277441 -0.031975 -0.070889  0.047647  0.075778  0.556461  0.741170   \n",
              "4  0.256846 -0.118795 -0.155106 -0.134832  0.297439  0.241704  0.469472   \n",
              "\n",
              "        7         8         9    ...       246       247       248       249  \\\n",
              "0  0.371765  0.669086  0.530387  ...  0.911594  1.065910  0.813509  0.559103   \n",
              "1  0.363563  0.039638  0.300219  ...  0.564037  0.439045  0.601399  0.758090   \n",
              "2  0.261847 -0.017913  0.042030  ...  0.006110 -0.227748  0.048597  0.511590   \n",
              "3  0.604523  0.770517  0.562931  ...  0.290294  0.645014  0.688283 -0.053283   \n",
              "4  0.815539  0.763322  0.545774  ...  0.475727  1.085077  1.194813  0.838231   \n",
              "\n",
              "        250       251       252       253       254       255  \n",
              "0  0.576087  0.143439  0.082710 -0.040196  0.104130  0.104220  \n",
              "1  0.615006  0.495628  0.418448  0.651263  0.450334  0.362928  \n",
              "2  0.850562  0.497355  0.232944 -0.157354 -0.015151  0.002892  \n",
              "3  0.047673  0.014939  0.152352  0.105156 -0.062622 -0.164624  \n",
              "4  0.959414  0.852181  0.439244  0.093923 -0.093429  0.102673  \n",
              "\n",
              "[5 rows x 256 columns]"
            ]
          },
          "execution_count": 8,
          "metadata": {},
          "output_type": "execute_result"
        }
      ],
      "source": [
        "df.head()"
      ]
    },
    {
      "cell_type": "code",
      "execution_count": null,
      "metadata": {
        "colab": {
          "base_uri": "https://localhost:8080/"
        },
        "id": "OUdvQoDwo7PR",
        "outputId": "e537b9e3-27e4-4faa-b26c-22ee1f82044e"
      },
      "outputs": [
        {
          "data": {
            "text/plain": [
              "(974, 256)"
            ]
          },
          "execution_count": 9,
          "metadata": {},
          "output_type": "execute_result"
        }
      ],
      "source": [
        "df.shape"
      ]
    },
    {
      "cell_type": "code",
      "execution_count": null,
      "metadata": {
        "id": "XYtsOAcEp1KA"
      },
      "outputs": [],
      "source": [
        "#function to plot the images\n",
        "def plot_mnist_images(X):\n",
        "   '''X:MNIST image'''\n",
        "   fig,ax=plt.subplots(10,10,figsize=(5,5))\n",
        "   ax=ax.flatten()\n",
        "   for img, a in zip(X,ax):\n",
        "     a.imshow(img.reshape(16,16),cmap=\"Greys\")\n",
        "     a.axis(\"off\")\n"
      ]
    },
    {
      "cell_type": "code",
      "execution_count": null,
      "metadata": {
        "colab": {
          "base_uri": "https://localhost:8080/"
        },
        "id": "F37-CzvEp4vH",
        "outputId": "f834a98b-0682-4022-8928-ef287c49834d"
      },
      "outputs": [
        {
          "data": {
            "text/plain": [
              "(974, 256)"
            ]
          },
          "execution_count": 11,
          "metadata": {},
          "output_type": "execute_result"
        }
      ],
      "source": [
        "#DataFrame to numpy array#\n",
        "X=np.array(df)\n",
        "#plot_mnist_images(X)\n",
        "X.shape"
      ]
    },
    {
      "cell_type": "code",
      "execution_count": null,
      "metadata": {
        "id": "rPYCZjRJurS5"
      },
      "outputs": [],
      "source": [
        "#train_test_split\n",
        "X_train,X_test=train_test_split(X,train_size=0.8)"
      ]
    },
    {
      "cell_type": "code",
      "execution_count": null,
      "metadata": {
        "colab": {
          "background_save": true,
          "base_uri": "https://localhost:8080/",
          "height": 348
        },
        "id": "nVffAQg3vBlM",
        "outputId": "c01b6059-8868-4a33-9b87-08cc7a82a2e4"
      },
      "outputs": [
        {
          "ename": "UFuncTypeError",
          "evalue": "ignored",
          "output_type": "error",
          "traceback": [
            "\u001b[0;31m---------------------------------------------------------------------------\u001b[0m",
            "\u001b[0;31mUFuncTypeError\u001b[0m                            Traceback (most recent call last)",
            "\u001b[0;32m<ipython-input-15-457be376539d>\u001b[0m in \u001b[0;36m<cell line: 2>\u001b[0;34m()\u001b[0m\n\u001b[1;32m      1\u001b[0m \u001b[0;31m#svd\u001b[0m\u001b[0;34m\u001b[0m\u001b[0;34m\u001b[0m\u001b[0m\n\u001b[0;32m----> 2\u001b[0;31m \u001b[0mU\u001b[0m\u001b[0;34m,\u001b[0m\u001b[0mS\u001b[0m\u001b[0;34m,\u001b[0m\u001b[0mVt\u001b[0m\u001b[0;34m=\u001b[0m\u001b[0mnp\u001b[0m\u001b[0;34m.\u001b[0m\u001b[0mlinalg\u001b[0m\u001b[0;34m.\u001b[0m\u001b[0msvd\u001b[0m\u001b[0;34m(\u001b[0m\u001b[0mX_train\u001b[0m\u001b[0;34m)\u001b[0m\u001b[0;34m\u001b[0m\u001b[0;34m\u001b[0m\u001b[0m\n\u001b[0m",
            "\u001b[0;32m/usr/local/lib/python3.10/dist-packages/numpy/core/overrides.py\u001b[0m in \u001b[0;36msvd\u001b[0;34m(*args, **kwargs)\u001b[0m\n",
            "\u001b[0;32m/usr/local/lib/python3.10/dist-packages/numpy/linalg/linalg.py\u001b[0m in \u001b[0;36msvd\u001b[0;34m(a, full_matrices, compute_uv, hermitian)\u001b[0m\n\u001b[1;32m   1655\u001b[0m \u001b[0;34m\u001b[0m\u001b[0m\n\u001b[1;32m   1656\u001b[0m         \u001b[0msignature\u001b[0m \u001b[0;34m=\u001b[0m \u001b[0;34m'D->DdD'\u001b[0m \u001b[0;32mif\u001b[0m \u001b[0misComplexType\u001b[0m\u001b[0;34m(\u001b[0m\u001b[0mt\u001b[0m\u001b[0;34m)\u001b[0m \u001b[0;32melse\u001b[0m \u001b[0;34m'd->ddd'\u001b[0m\u001b[0;34m\u001b[0m\u001b[0;34m\u001b[0m\u001b[0m\n\u001b[0;32m-> 1657\u001b[0;31m         \u001b[0mu\u001b[0m\u001b[0;34m,\u001b[0m \u001b[0ms\u001b[0m\u001b[0;34m,\u001b[0m \u001b[0mvh\u001b[0m \u001b[0;34m=\u001b[0m \u001b[0mgufunc\u001b[0m\u001b[0;34m(\u001b[0m\u001b[0ma\u001b[0m\u001b[0;34m,\u001b[0m \u001b[0msignature\u001b[0m\u001b[0;34m=\u001b[0m\u001b[0msignature\u001b[0m\u001b[0;34m,\u001b[0m \u001b[0mextobj\u001b[0m\u001b[0;34m=\u001b[0m\u001b[0mextobj\u001b[0m\u001b[0;34m)\u001b[0m\u001b[0;34m\u001b[0m\u001b[0;34m\u001b[0m\u001b[0m\n\u001b[0m\u001b[1;32m   1658\u001b[0m         \u001b[0mu\u001b[0m \u001b[0;34m=\u001b[0m \u001b[0mu\u001b[0m\u001b[0;34m.\u001b[0m\u001b[0mastype\u001b[0m\u001b[0;34m(\u001b[0m\u001b[0mresult_t\u001b[0m\u001b[0;34m,\u001b[0m \u001b[0mcopy\u001b[0m\u001b[0;34m=\u001b[0m\u001b[0;32mFalse\u001b[0m\u001b[0;34m)\u001b[0m\u001b[0;34m\u001b[0m\u001b[0;34m\u001b[0m\u001b[0m\n\u001b[1;32m   1659\u001b[0m         \u001b[0ms\u001b[0m \u001b[0;34m=\u001b[0m \u001b[0ms\u001b[0m\u001b[0;34m.\u001b[0m\u001b[0mastype\u001b[0m\u001b[0;34m(\u001b[0m\u001b[0m_realType\u001b[0m\u001b[0;34m(\u001b[0m\u001b[0mresult_t\u001b[0m\u001b[0;34m)\u001b[0m\u001b[0;34m,\u001b[0m \u001b[0mcopy\u001b[0m\u001b[0;34m=\u001b[0m\u001b[0;32mFalse\u001b[0m\u001b[0;34m)\u001b[0m\u001b[0;34m\u001b[0m\u001b[0;34m\u001b[0m\u001b[0m\n",
            "\u001b[0;31mUFuncTypeError\u001b[0m: Cannot cast ufunc 'svd_n_f' input from dtype('O') to dtype('float64') with casting rule 'same_kind'"
          ]
        }
      ],
      "source": [
        "#svd\n",
        "U,S,Vt=np.linalg.svd(X_train)"
      ]
    },
    {
      "cell_type": "code",
      "execution_count": null,
      "metadata": {
        "id": "rTmQzmOywiVR"
      },
      "outputs": [],
      "source": [
        "#Function to get principal components\n",
        "def get_principal_comps(X,Vt,n):\n",
        "  '''\n",
        "  X:data matrix\n",
        "  Vt: right singular matrix\n",
        "  '''\n",
        "  PC=X@(Vt.T)\n",
        "  return PC[:,:n]"
      ]
    },
    {
      "cell_type": "code",
      "execution_count": null,
      "metadata": {
        "id": "dTiFi2u-p7-Y"
      },
      "outputs": [],
      "source": [
        "#Function to reconstruct the images\n",
        "def Reconstructed_data_matrix(PC,Vt,n):\n",
        "  \"\"\"\"\n",
        "  PC:principaa component\n",
        "  Vt: Right singular matrix\n",
        "  \"\"\"\n",
        "  X_=PC@(Vt[:n,:])\n",
        "  return X_"
      ]
    },
    {
      "cell_type": "code",
      "execution_count": null,
      "metadata": {
        "id": "12Bq63K8yPs2"
      },
      "outputs": [],
      "source": [
        "#reconstructing the images\n",
        "n=256\n",
        "PC_image=get_principal_comps(X_train,Vt,n)\n",
        "recons_image1=Reconstructed_data_matrix(PC_image,Vt,n)"
      ]
    },
    {
      "cell_type": "code",
      "execution_count": null,
      "metadata": {
        "id": "cJE6QKGIypt7"
      },
      "outputs": [],
      "source": [
        "#plotting actual image and reconstructed image\n",
        "plot_mnist_images(X_train)\n",
        "plot_mnist_images(recons_image1)"
      ]
    },
    {
      "cell_type": "markdown",
      "metadata": {
        "id": "zRC0i9sz2j_b"
      },
      "source": [
        "## Observations\n",
        "\n",
        "---\n",
        "1. There is a noticeable similarity between the images from the trained dataset and the reconstructed images using the top 256 principal components.\n",
        "2. This similarity gives information about the important features of the original images.\n",
        "3. I may say the dimensionality reduction technique is successful in this case\n",
        "\n"
      ]
    },
    {
      "cell_type": "code",
      "execution_count": null,
      "metadata": {
        "id": "BWqqlozeErWA"
      },
      "outputs": [],
      "source": [
        "#reconstructing the images\n",
        "n=150\n",
        "PC_image=get_principal_comps(X_train,Vt,n)\n",
        "recons_image_2=Reconstructed_data_matrix(PC_image,Vt,n)"
      ]
    },
    {
      "cell_type": "code",
      "execution_count": null,
      "metadata": {
        "id": "v2y45QDkEriw"
      },
      "outputs": [],
      "source": [
        "#plotting actual image and reconstructed image\n",
        "plot_mnist_images(X_train)\n",
        "plot_mnist_images(recons_image_2)"
      ]
    },
    {
      "cell_type": "code",
      "execution_count": null,
      "metadata": {
        "id": "hiGesOaj4kI9"
      },
      "outputs": [],
      "source": [
        "#reconstructing the images\n",
        "n=128\n",
        "PC_image=get_principal_comps(X_train,Vt,n)\n",
        "recons_image2=Reconstructed_data_matrix(PC_image,Vt,n)"
      ]
    },
    {
      "cell_type": "code",
      "execution_count": null,
      "metadata": {
        "id": "XJIUWqTg4qIC"
      },
      "outputs": [],
      "source": [
        "#plotting actual image and reconstructed image\n",
        "plot_mnist_images(X_train)\n",
        "plot_mnist_images(recons_image2)"
      ]
    },
    {
      "cell_type": "markdown",
      "metadata": {
        "id": "WB6J34sU44aG"
      },
      "source": [
        "## Observations\n",
        "\n",
        "---\n",
        "\n",
        "1. When the top 128 principal components are used to recreate the original image, it gives fair information about the original image.\n",
        "2. I may say the dimensionality reduction technique is successful in this case also.\n",
        "3. But the clarity of the image with top 128 principal components and top 256 principal components is different. The reconstructed image with 256 principal components have better clarity than a reconstructed image with top 128 principal components."
      ]
    },
    {
      "cell_type": "code",
      "execution_count": null,
      "metadata": {
        "id": "qMvjqNRa6XUV"
      },
      "outputs": [],
      "source": [
        "#reconstructing the images\n",
        "n=64\n",
        "PC_image=get_principal_comps(X_train,Vt,n)\n",
        "recons_image3=Reconstructed_data_matrix(PC_image,Vt,n)"
      ]
    },
    {
      "cell_type": "code",
      "execution_count": null,
      "metadata": {
        "id": "Lmmwr3dt6eZe"
      },
      "outputs": [],
      "source": [
        "#plotting actual image and reconstructed image\n",
        "plot_mnist_images(X_train)\n",
        "plot_mnist_images(recons_image3)"
      ]
    },
    {
      "cell_type": "markdown",
      "metadata": {
        "id": "LR6Q6hKH6tVL"
      },
      "source": [
        "## Observations\n",
        "\n",
        "---\n",
        "\n",
        "1. Using the top 64 principal components for reconstructing the original image yielded an outcome that provides a moderate representation of the original content. However, there is a slight uncertainty in interpreting 1-2 specific numbers within the reconstructed image.\n",
        "2. I may say the dimensionality reduction technique is not completely successful in this case.\n",
        "3. The level of image clarity varies among the reconstructed images using the top 64, top 128, and top 256 principal components. Notably, the image reconstructed with the top 256 principal components exhibits superior clarity compared to those reconstructed with the top 128 and top 64 principal components."
      ]
    },
    {
      "cell_type": "code",
      "execution_count": null,
      "metadata": {
        "id": "fuNiTEah82aG"
      },
      "outputs": [],
      "source": [
        "#reconstructing the images\n",
        "n=32\n",
        "PC_image=get_principal_comps(X_train,Vt,n)\n",
        "recons_image4=Reconstructed_data_matrix(PC_image,Vt,n)"
      ]
    },
    {
      "cell_type": "code",
      "execution_count": null,
      "metadata": {
        "id": "K006TL2w88tP"
      },
      "outputs": [],
      "source": [
        "#plotting actual image and reconstructed image\n",
        "plot_mnist_images(X_train)\n",
        "plot_mnist_images(recons_image4)"
      ]
    },
    {
      "cell_type": "markdown",
      "metadata": {
        "id": "8LdgSE3I-WZU"
      },
      "source": [
        "## Observations\n",
        "\n",
        "---\n",
        "\n",
        "\n",
        "1. Reconstructing the original image using the top 32 principal components resulted in an outcome that moderately represents the original content. However, there exists a slight uncertainty in interpreting 2-3 specific numbers within the reconstructed image. This suggests that the dimensionality reduction technique might not have achieved complete success in this instance.\n",
        "\n",
        "2. The level of image clarity varies across the reconstructed images employing different numbers of principal components, including the top 32, top 64, top 128, and top 256. Importantly, the image reconstructed using the top 256 principal components demonstrates significantly enhanced clarity compared to those reconstructed using the top 128, top 64 principal components, and even the top 32 principal components."
      ]
    },
    {
      "cell_type": "code",
      "execution_count": null,
      "metadata": {
        "id": "KMrEOCqqCB0D"
      },
      "outputs": [],
      "source": [
        "#reconstructing the images\n",
        "n=80\n",
        "PC_image=get_principal_comps(X_train,Vt,n)\n",
        "recons_image5=Reconstructed_data_matrix(PC_image,Vt,n)"
      ]
    },
    {
      "cell_type": "code",
      "execution_count": null,
      "metadata": {
        "id": "Xqe9GKwUCCKp"
      },
      "outputs": [],
      "source": [
        "#plotting actual image and reconstructed image\n",
        "plot_mnist_images(X_train)\n",
        "plot_mnist_images(recons_image5)"
      ]
    },
    {
      "cell_type": "code",
      "execution_count": null,
      "metadata": {
        "id": "cd1TGhhVBu02"
      },
      "outputs": [],
      "source": [
        "#reconstructing the images\n",
        "n=90\n",
        "PC_image=get_principal_comps(X_train,Vt,n)\n",
        "recons_image6=Reconstructed_data_matrix(PC_image,Vt,n)"
      ]
    },
    {
      "cell_type": "code",
      "execution_count": null,
      "metadata": {
        "id": "TSI5g_VMBvIM"
      },
      "outputs": [],
      "source": [
        "#plotting actual image and reconstructed image\n",
        "plot_mnist_images(X_train)\n",
        "plot_mnist_images(recons_image6)"
      ]
    },
    {
      "cell_type": "code",
      "execution_count": null,
      "metadata": {
        "id": "RMNtxUJf-j6L"
      },
      "outputs": [],
      "source": [
        "#reconstructing the images\n",
        "n=100\n",
        "PC_image=get_principal_comps(X_train,Vt,n)\n",
        "recons_image7=Reconstructed_data_matrix(PC_image,Vt,n)"
      ]
    },
    {
      "cell_type": "code",
      "execution_count": null,
      "metadata": {
        "id": "foOMi8O5-_JL"
      },
      "outputs": [],
      "source": [
        "#plotting actual image and reconstructed image\n",
        "plot_mnist_images(X_train)\n",
        "plot_mnist_images(recons_image7)"
      ]
    },
    {
      "cell_type": "code",
      "execution_count": null,
      "metadata": {
        "id": "CJt9yacIe1IK"
      },
      "outputs": [],
      "source": [
        "def get_var_exp(S,n):\n",
        "  eig=S**2\n",
        "  return eig[n]/np.sum(eig)"
      ]
    },
    {
      "cell_type": "markdown",
      "metadata": {
        "id": "wTjIN5QsAGha"
      },
      "source": [
        "## FINAL OBSERVATIONS\n",
        "\n",
        "---\n",
        "\n",
        "\n",
        "1. Using a small number of principal components (e.g., 32 to 64) might result in recognizable images, but they could be a bit blurry or lack fine details.\n",
        "Using a larger number of principal components (e.g., 128 to 256) will likely result in clearer images with more details.\n",
        "\n",
        "2. Observing the reconstructed images, I would say the top 80 Principal Components are enough to represent the data given.\n",
        "\n",
        "3. After careful consideration, I found that a range between 80 and 150 principal components offered a balanced trade-off between retaining essential information and achieving computational efficiency. This selection resulted in de-noised images that maintained clarity and recognizable features while avoiding excessive computational complexity."
      ]
    }
  ],
  "metadata": {
    "colab": {
      "provenance": [],
      "include_colab_link": true
    },
    "kernelspec": {
      "display_name": "Python 3",
      "name": "python3"
    },
    "language_info": {
      "name": "python"
    }
  },
  "nbformat": 4,
  "nbformat_minor": 0
}